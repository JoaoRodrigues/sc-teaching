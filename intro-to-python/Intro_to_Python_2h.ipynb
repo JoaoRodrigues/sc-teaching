{
 "cells": [
  {
   "cell_type": "markdown",
   "metadata": {},
   "source": [
    "# Intro to Python\n",
    "\n",
    "## Overview\n",
    "This Jupyter notebook contains notes from a 2h introductory lesson to programming in Python. The goal of the lesson is not to make you a programmer, but to expose you to concepts and notions that will motivate you to start learning Python.\n",
    "\n",
    "For questions, suggestions, or other feedback, feel free to email me at joaor [squiggly] stanford [period] edu"
   ]
  },
  {
   "cell_type": "markdown",
   "metadata": {},
   "source": [
    "## Variable Assignment"
   ]
  },
  {
   "cell_type": "code",
   "execution_count": null,
   "metadata": {},
   "outputs": [],
   "source": [
    "# This is a comment. Lines starting with '#' will not be executed by the Python interpreter\n",
    "# and can be used to annotate our code. Useful for others and for our future selves."
   ]
  },
  {
   "cell_type": "code",
   "execution_count": null,
   "metadata": {},
   "outputs": [],
   "source": [
    "# Variables store information. In their simplest form, computer programs manipulate\n",
    "# information store in variables to achieve something.\n",
    "#\n",
    "# Variables in Python are assigned with <variable name> <equal sign> <value>. The name\n",
    "# of a variable should be simple and meaningful to the reader. Do not name variables 'i', 'j',\n",
    "# or 'var1', 'var2'.\n",
    "#\n",
    "# To assign text to a variable, enclose it quotes. Single, double, does not matter as long\n",
    "# as you are coherent.\n",
    "name = \"Stanford\""
   ]
  },
  {
   "cell_type": "code",
   "execution_count": null,
   "metadata": {},
   "outputs": [],
   "source": [
    "# We can use the print() function to display the contents of a variable\n",
    "# Functions in python are always followed by parenthesis that may or may not\n",
    "# contain values inside (called arguments)\n",
    "\n",
    "# print() takes as arguments the variable name we wish to display\n",
    "print(name)"
   ]
  },
  {
   "cell_type": "code",
   "execution_count": null,
   "metadata": {},
   "outputs": [],
   "source": [
    "# We can also assign numbers to variables\n",
    "year = 1891"
   ]
  },
  {
   "cell_type": "code",
   "execution_count": null,
   "metadata": {},
   "outputs": [],
   "source": [
    "# And to verify it, we use print() again.\n",
    "print(year)"
   ]
  },
  {
   "cell_type": "code",
   "execution_count": null,
   "metadata": {},
   "outputs": [],
   "source": [
    "# As a dynamically-typed language, Python does not require you to specify types when declaring\n",
    "# variables - the interpreter infers the type from what you specify as a value. \n",
    "# In addition, variables can hold different values of different types during the course of a\n",
    "# program.\n",
    "#\n",
    "# Learning what types there are and what they can be used for is an important piece of knowledge\n",
    "# to have as a programmer. In Python, the basic variable types are:\n",
    "# - strings, to represent generic text\n",
    "# - integers, to represent whole numbers\n",
    "# - floats, to represent decimal numbers\n",
    "# - bool, to represent boolean values (True or False)\n",
    "#\n",
    "# To check the type of a variable you can use the type() function. As with print(), pass the \n",
    "# variable name as an argument.\n",
    "type(name)  # should print 'str' meaning the variable is a 'string'.\n",
    "\n",
    "# We make use of a Jupyter notebook feature and avoid the use of print to display the value\n",
    "# of type(name). In a Python script, you would have to enclose the previous statement inside\n",
    "# a print() statement, or assign it to a variable and then print it, like this:\n",
    "#\n",
    "# type_of_name = type(name)\n",
    "# print(type_of_name)"
   ]
  },
  {
   "cell_type": "code",
   "execution_count": null,
   "metadata": {},
   "outputs": [],
   "source": [
    "type(year)  # should print 'int', meaining the variable is an integer"
   ]
  },
  {
   "cell_type": "code",
   "execution_count": null,
   "metadata": {},
   "outputs": [],
   "source": [
    "# We can also use print to display more than one variable at once. Separate your arguments\n",
    "# by commas and print will display them consecutively, separating each by one space. The print\n",
    "# function will automatically convert any variable to their string representation in the process.\n",
    "# Morever, you can give raw values (not assigned to any variable) to print, as below:\n",
    "print(name, \"was founded in\", year)"
   ]
  },
  {
   "cell_type": "code",
   "execution_count": null,
   "metadata": {},
   "outputs": [],
   "source": [
    "# Python also has a boolean type, which is used in conditionals and other boolean logic\n",
    "# operations. Booleans in Python are either 'True' or 'False."
   ]
  },
  {
   "cell_type": "code",
   "execution_count": null,
   "metadata": {},
   "outputs": [],
   "source": [
    "True"
   ]
  },
  {
   "cell_type": "code",
   "execution_count": null,
   "metadata": {},
   "outputs": [],
   "source": [
    "type(True)"
   ]
  },
  {
   "cell_type": "code",
   "execution_count": null,
   "metadata": {},
   "outputs": [],
   "source": [
    "# The capitalization matter. Trying to print 'true' will give an error because that name was\n",
    "# never defined. Python is case-sensitive. Keep that in mind.\n",
    "#\n",
    "# Errors in Python will be quite verbose to try and help you pinpoint the source of the problem.\n",
    "# Read them in reverse vertical order: last line first. The following example shows that the type\n",
    "# of error we have is a NameError, followed by what that means in this case. The other lines\n",
    "# include more information, namely a blurb of your code to help you contextualize where the\n",
    "# problem is coming from.\n",
    "#\n",
    "true"
   ]
  },
  {
   "cell_type": "markdown",
   "metadata": {},
   "source": [
    "## Operations on Variables"
   ]
  },
  {
   "cell_type": "code",
   "execution_count": null,
   "metadata": {},
   "outputs": [],
   "source": [
    "# Depending on the variable type, you can do different operations.\n",
    "# Take two integers. You can perform any arithmetic operation on them:\n",
    "# e.g., + (addition), - (subtraction), '*' (multiplication), '/' (division), '**' (exponentiation)\n",
    "2 + 2"
   ]
  },
  {
   "cell_type": "code",
   "execution_count": null,
   "metadata": {},
   "outputs": [],
   "source": [
    "# We can also perform operations with values stored in variables.\n",
    "year + 2"
   ]
  },
  {
   "cell_type": "code",
   "execution_count": null,
   "metadata": {},
   "outputs": [],
   "source": [
    "# However, this does not change the variable value!\n",
    "print(year)"
   ]
  },
  {
   "cell_type": "code",
   "execution_count": null,
   "metadata": {},
   "outputs": [],
   "source": [
    "# You can assign the value of operations to variables\n",
    "age = 2019 - year\n",
    "print(age)\n",
    "# Also, you can have multiple statements inside a cell of a notebook. All of them will be\n",
    "# evaluated, but only the output of the last line will be displayed below (unless you use print)."
   ]
  },
  {
   "cell_type": "code",
   "execution_count": null,
   "metadata": {},
   "outputs": [],
   "source": [
    "# Different variable types work differently with the same operators.\n",
    "# Adding two strings performs string concatenation: joining them.\n",
    "name + name"
   ]
  },
  {
   "cell_type": "code",
   "execution_count": null,
   "metadata": {},
   "outputs": [],
   "source": [
    "# Similarly, multiplying a string by a number repeats that string n times.\n",
    "name * 10"
   ]
  },
  {
   "cell_type": "code",
   "execution_count": null,
   "metadata": {},
   "outputs": [],
   "source": [
    "# Not all operations work though. And not all types can be mixed.\n",
    "name - 10"
   ]
  },
  {
   "cell_type": "code",
   "execution_count": null,
   "metadata": {},
   "outputs": [],
   "source": [
    "# Another example that you must be careful when mixing types.\n",
    "name + year"
   ]
  },
  {
   "cell_type": "code",
   "execution_count": null,
   "metadata": {},
   "outputs": [],
   "source": [
    "# You can always explicitly convert the variables to a compatible type\n",
    "# The functions to convert a variable to a given type are named after the type names\n",
    "# themselves: str(), int(), float(), and bool()\n",
    "name + str(year)"
   ]
  },
  {
   "cell_type": "code",
   "execution_count": null,
   "metadata": {},
   "outputs": [],
   "source": [
    "# Conversions don't always work either. The values must make sense in the new variable type.\n",
    "# For example, a word cannot be converted to a number. What would it mean?\n",
    "int(name)"
   ]
  },
  {
   "cell_type": "markdown",
   "metadata": {},
   "source": [
    "## Reading Files"
   ]
  },
  {
   "cell_type": "code",
   "execution_count": null,
   "metadata": {},
   "outputs": [],
   "source": [
    "# Download the following file to wherever you launched this notebook from:\n",
    "# https://pastebin.com/Trinnt7X\n",
    "# If you just opened a terminal and typed 'jupyter notebook', or just pressed the jupyter button\n",
    "# in the Anaconda UI, then you should download the file to your 'home' (or user) directory.\n",
    "#\n",
    "# Then, let's assign the file name to a variable, as a string \n",
    "fname = \"gapminder_lifeexp.txt\""
   ]
  },
  {
   "cell_type": "code",
   "execution_count": null,
   "metadata": {},
   "outputs": [],
   "source": [
    "print(fname)"
   ]
  },
  {
   "cell_type": "code",
   "execution_count": null,
   "metadata": {},
   "outputs": [],
   "source": [
    "# To open a file, we use the open() function. The arguments to open() are the file name as a\n",
    "# string and the opening mode. The opening mode can be 'r' (read), 'w' (write), or 'a' (append).\n",
    "# Careful with 'w', it will erase the contents of your file without warning!\n",
    "#\n",
    "# Let's open the file and assign the result of open() to a variable\n",
    "infile = open(fname, \"r\")"
   ]
  },
  {
   "cell_type": "code",
   "execution_count": null,
   "metadata": {},
   "outputs": [],
   "source": [
    "# When we open a file, the result is a 'handle' to the file. Think of this object as a window\n",
    "# to the contents of the file.\n",
    "print(infile)"
   ]
  },
  {
   "cell_type": "code",
   "execution_count": null,
   "metadata": {},
   "outputs": [],
   "source": [
    "# You can extract the content of the file line by line using the function readline().\n",
    "# Unlike print, type, and open, readline() is a function of the file object. As such, we call it\n",
    "# by writing the file variable, a period, and then readline.\n",
    "#\n",
    "# You will find this syntax very often. In Python, all objects (e.g. variables) will have methods\n",
    "# associated with them. These methods are accessed using this dot notation.\n",
    "#\n",
    "# Some functions are special, like print(), in the sense that they are available without this\n",
    "# dot notation. These are called built-in functions.\n",
    "#\n",
    "# Calling readline displays ONE line of the file. Since we just opened the file, it will show\n",
    "# the first line.\n",
    "infile.readline()"
   ]
  },
  {
   "cell_type": "code",
   "execution_count": null,
   "metadata": {},
   "outputs": [],
   "source": [
    "# Calling it again will display the next line in the file. Importantly, we cannot scrollback when\n",
    "# using readline (we can, but it's beyond the scope of this intro lesson).\n",
    "infile.readline()"
   ]
  },
  {
   "cell_type": "code",
   "execution_count": null,
   "metadata": {},
   "outputs": [],
   "source": [
    "# To be more useful, we can assign the result of the readline function to a variable\n",
    "line = infile.readline()\n",
    "print(line)"
   ]
  },
  {
   "cell_type": "code",
   "execution_count": null,
   "metadata": {},
   "outputs": [],
   "source": [
    "# When reading a file as text, regardless of the contents, Python will always store the \n",
    "# entire line as a string.\n",
    "type(line)"
   ]
  },
  {
   "cell_type": "code",
   "execution_count": null,
   "metadata": {},
   "outputs": [],
   "source": [
    "# If you notice, when we display the value of the string in Jupyter (without print), we get\n",
    "# a '\\n' at the end of the line. When we use print, these two characters disappear and we get\n",
    "# instead an empty extra line. That '\\n' is a newline character, a special value used by computers\n",
    "# to represent a line break.\n",
    "#\n",
    "# Strings, being objects, have a method called 'strip()' that allows us to remove leading and\n",
    "# trailing character from the string. You can pass any single character to strip() as its\n",
    "# argument, and this will remove any instances of that character from the ends of the string. By\n",
    "# default (if we do not provide arguments) strip() removes whitespace, including newline. \n",
    "line.strip()"
   ]
  },
  {
   "cell_type": "code",
   "execution_count": null,
   "metadata": {},
   "outputs": [],
   "source": [
    "# Another very useful method of strings is 'split()'. Like 'strip()', 'split()' takes one argument\n",
    "# and divides the string whenever it finds instances of that character. By default, it splits on\n",
    "# white space (useful to separate sentences into words). Since we opened a csv (comma-separated)\n",
    "# file, we will pass as an argument a single comma, as a string.\n",
    "#\n",
    "# The result of this operation is a new variable type called a list. Lists (often called arrays\n",
    "# in other programming languages), are so-called containers because they can store multiple values\n",
    "# of different types. They are represented by square brackets, where every element of the list is\n",
    "# separated by a comma.\n",
    "#\n",
    "# Jupyter does some formatting for us, putting each element in a new line to make it easier\n",
    "# to read.\n",
    "line.split(',')"
   ]
  },
  {
   "cell_type": "code",
   "execution_count": null,
   "metadata": {},
   "outputs": [],
   "source": [
    "# Oops, we forgot about the nasty \\n.\n",
    "# Since using .strip() on a string returns another string, we can directly call .split() on this\n",
    "# new string, avoiding the need to store the intermediate value. These chaining of methods is only\n",
    "# possible as long as you keep track of what each method returns.\n",
    "fields = line.strip().split(',')\n",
    "print(fields)  # this prints the list without fancy Jupyter formatting"
   ]
  },
  {
   "cell_type": "code",
   "execution_count": null,
   "metadata": {},
   "outputs": [],
   "source": [
    "# If you try to call strip() again on the list, you will get an error.\n",
    "# Attribute errors mean that you tried to call a method on the wrong variable type.\n",
    "fields = line.strip().split(',').strip()"
   ]
  },
  {
   "cell_type": "code",
   "execution_count": null,
   "metadata": {},
   "outputs": [],
   "source": [
    "# A small note on variable names. We said before that variables can be named whatever we like.\n",
    "# This is not necessarily true. Some names are reserved for special values. The boolean values of\n",
    "# True and False for example, cannot be used as variable names. The same goes for 'if', 'for', \n",
    "# 'while', and other keywords.\n",
    "True = 12"
   ]
  },
  {
   "cell_type": "code",
   "execution_count": null,
   "metadata": {},
   "outputs": [],
   "source": [
    "# You can however, assign value to functions. Doing this is VERY BAD as it will cause the original\n",
    "# meaning (value) of that variable to be lost. Forever.\n",
    "int = 'banana'"
   ]
  },
  {
   "cell_type": "code",
   "execution_count": null,
   "metadata": {},
   "outputs": [],
   "source": [
    "# The following will now fail, because int is just the string 'banana'. The original value of\n",
    "# int(), the function to convert values to integers, is lost.\n",
    "int('12')"
   ]
  },
  {
   "cell_type": "markdown",
   "metadata": {},
   "source": [
    "## Lists and Indexing"
   ]
  },
  {
   "cell_type": "code",
   "execution_count": null,
   "metadata": {},
   "outputs": [],
   "source": [
    "# Lists (can) have multiple elements.\n",
    "print(fields)"
   ]
  },
  {
   "cell_type": "code",
   "execution_count": null,
   "metadata": {},
   "outputs": [],
   "source": [
    "# We can access each element individually by using the following notation. The number between\n",
    "# the square brackets represents the positional index of that element in the list.\n",
    "fields[1]"
   ]
  },
  {
   "cell_type": "code",
   "execution_count": null,
   "metadata": {},
   "outputs": [],
   "source": [
    "# Annoyingly, in Python indexing starts at 0. The first element of a list is therefore\n",
    "# at position 0:\n",
    "fields[0]"
   ]
  },
  {
   "cell_type": "code",
   "execution_count": null,
   "metadata": {},
   "outputs": [],
   "source": [
    "# We can assign the result of the indexing to a new variable, and we see that it is of type\n",
    "# string.\n",
    "continent = fields[0]\n",
    "print(continent)\n",
    "type(continent)"
   ]
  },
  {
   "cell_type": "code",
   "execution_count": null,
   "metadata": {},
   "outputs": [],
   "source": [
    "# Python also allows you access items in a list in reverse order, by using negative numbers.\n",
    "# -1 represents the LAST item of a list:\n",
    "fields[-1]"
   ]
  },
  {
   "cell_type": "code",
   "execution_count": null,
   "metadata": {},
   "outputs": [],
   "source": [
    "# Trying to access a position that does not exist, such as a index larger than the number\n",
    "# of elements in the list, will throw an error:\n",
    "fields[14]"
   ]
  },
  {
   "cell_type": "code",
   "execution_count": null,
   "metadata": {},
   "outputs": [],
   "source": [
    "# Strings, despite not being 'containers', can also be indexed. In this case, the return value\n",
    "# is the character at that position. So, to extract the first letter of a word, you can do:\n",
    "continent[0]"
   ]
  },
  {
   "cell_type": "code",
   "execution_count": null,
   "metadata": {},
   "outputs": [],
   "source": [
    "# We can use indexing and combine it with any of the other syntax we've seen so far\n",
    "# For example, let's look at the content of our list again:\n",
    "print(fields)"
   ]
  },
  {
   "cell_type": "code",
   "execution_count": null,
   "metadata": {},
   "outputs": [],
   "source": [
    "# We can, in one line, access the third and last values of the list, convert them to floating\n",
    "# point numbers, and subtract them to obtain a new value. If you remember the first line of all\n",
    "# in the file, these columns contained the life expectancy of a particular country in 1952 and 2007\n",
    "# respectively. This difference gives us the change in life expectancy.\n",
    "life_exp_change = float(fields[-1]) - float(fields[2])\n",
    "print(life_exp_change)"
   ]
  },
  {
   "cell_type": "code",
   "execution_count": null,
   "metadata": {},
   "outputs": [],
   "source": [
    "# A small note on floating point operations. Numbers in computers are stored with limited\n",
    "# precision. A computer stores 1/3 as 0.33333 down to a finite number of decimal places. As such,\n",
    "# there will be sometimes some errors when doing operations with these numbers. Usually very\n",
    "# small errors (as you see above) but that can accumulate if you perform hundreds/thousands of\n",
    "# operations consecutively. Keep this in mind. Precision is limited."
   ]
  },
  {
   "cell_type": "code",
   "execution_count": null,
   "metadata": {},
   "outputs": [],
   "source": [
    "# We can combine variable names, raw values, and indexed values in print:\n",
    "print(fields[1], \"has a life expectancy change of\", life_exp_change)"
   ]
  },
  {
   "cell_type": "markdown",
   "metadata": {},
   "source": [
    "## For-loops"
   ]
  },
  {
   "cell_type": "code",
   "execution_count": null,
   "metadata": {},
   "outputs": [],
   "source": [
    "# Reading a file line by line, manually, is exhausting and boring. Instead, you can use a so-called\n",
    "# for-loop to repeat actions.\n",
    "#\n",
    "# For example, to print every line in the file.\n",
    "for line in infile:\n",
    "    print(line)"
   ]
  },
  {
   "cell_type": "code",
   "execution_count": null,
   "metadata": {},
   "outputs": [],
   "source": [
    "# For-loops have a special syntax, all of which matters.\n",
    "# You define a for-loop by starting a line with the keyword 'for', followed by the name\n",
    "# of a variable that will represent the value of the for loop at each iteration. This variable\n",
    "# is 'magically' defined for you - it will be assigned internally in the for loop as it operates.\n",
    "# Be careful not to name it after any variable you defined before, or you will overwrite its value.\n",
    "#\n",
    "# After this name comes the keyword 'in', followed by the container over which we will iterate.\n",
    "# This container can be something with multiple elements, such as a list of a string. Files are\n",
    "# special objects that can also be seen as 'containers' of some sorts. Internally, what happens is\n",
    "# that Python calls the readline() function again and again, as many times as you have lines in the\n",
    "# file.\n",
    "#\n",
    "# For-loops eventually stop when you reach the last item of the container.\n",
    "#\n",
    "# The first line of the for-loop ends with a colon (':') and then, in the next line, you start\n",
    "# writing whatever code you want to be repeated for every item of the container. Very importantly,\n",
    "# you have to prefix these lines by empty spaces (indentation). Usually Python programmers will use\n",
    "# 4 spaces. Every single consecutive line that is indented by these 4 spaces will be executed as\n",
    "# many times as the for loop runs.\n",
    "#\n",
    "# Let's see these properties in the following example - iterating over our list 'fields'\n",
    "for item in fields:\n",
    "    print(item)"
   ]
  },
  {
   "cell_type": "code",
   "execution_count": null,
   "metadata": {},
   "outputs": [],
   "source": [
    "# The variable item, which we never defined (as in item = <something>) now holds the value of the\n",
    "# last element of the for-loop.\n",
    "item"
   ]
  },
  {
   "cell_type": "code",
   "execution_count": null,
   "metadata": {},
   "outputs": [],
   "source": [
    "# If we define it before, we lose this definition. Also, you can iterate as many times as you want\n",
    "# over a list or a string.\n",
    "item = 'apple'\n",
    "for item in fields:\n",
    "    print(item)\n",
    "print(item)  # last value of the for-loop. 'Apple' is gone."
   ]
  },
  {
   "cell_type": "code",
   "execution_count": null,
   "metadata": {},
   "outputs": [],
   "source": [
    "# Files, however, can only be iterated on ONCE. After you go over every line, the file is said to\n",
    "# be 'exhausted' and you cannot iterate over it anymore. It has no more lines to show you, you saw\n",
    "# them all already!\n",
    "for line in infile:\n",
    "    print(line)"
   ]
  },
  {
   "cell_type": "code",
   "execution_count": null,
   "metadata": {},
   "outputs": [],
   "source": [
    "# The solution is to re-open the file.\n",
    "infile = open('gapminder_lifeexp.txt', 'r')"
   ]
  },
  {
   "cell_type": "code",
   "execution_count": null,
   "metadata": {},
   "outputs": [],
   "source": [
    "# Let's now write a for-loop that calculates the life expetancy change for every country in our\n",
    "# dataset."
   ]
  },
  {
   "cell_type": "code",
   "execution_count": null,
   "metadata": {},
   "outputs": [],
   "source": [
    "# The first line in the file did not contain any data. It was a header file with info on what each\n",
    "# column held. We do not want to parse this line so we can skip it by forcingly reading it before\n",
    "# the for-loop. You can assign variables to an underscore character '_' to symbolize they are just\n",
    "# unimportant. It's a convention. You can also assign them to a variable named 'garbage'.\n",
    "_ = infile.readline()"
   ]
  },
  {
   "cell_type": "code",
   "execution_count": null,
   "metadata": {},
   "outputs": [],
   "source": [
    "# We can now iterate over the remaining lines of the file and do our calculations.\n",
    "# Let's combine all the tricks we have learned so far.\n",
    "for line in infile:  # for each line in the file\n",
    "    fields = line.strip().split(',')  # we make a list 'fields' by separating the line contents by ','. We also remove '\\n' from the line.\n",
    "    \n",
    "    country = fields[1]  # the second element is the country name\n",
    "    le_change = float(fields[-1]) - float(fields[2])  # the life expectancy change is calculated like this\n",
    "    \n",
    "    print(country, le_change)  # and now we print the result."
   ]
  },
  {
   "cell_type": "code",
   "execution_count": null,
   "metadata": {},
   "outputs": [],
   "source": [
    "# This is great, but we lost all the information we had on the countries. What if we wanted\n",
    "# to do more calculations afterwards, such as calculate the average life expectancy change over\n",
    "# all countries?\n",
    "#\n",
    "# We can do this by creating empty lists ahead of the for-loop and then adding elements to them\n",
    "# as we iterate over the file.\n",
    "\n",
    "infile = open('gapminder_lifeexp.txt', 'r')  # re-open the file\n",
    "_ = infile.readline()  # skip the header line\n",
    "\n",
    "# We make new empty lists using a pair of square brackets and assigning them to a variable.\n",
    "countries = []\n",
    "life_exp_changes = []\n",
    "\n",
    "# then we iterate over the file, like we did before\n",
    "for line in infile:\n",
    "    fields = line.strip().split(',')\n",
    "    \n",
    "    country = fields[1]\n",
    "    le_change = float(fields[-1]) - float(fields[2])\n",
    "    \n",
    "    # and now instead of print(), we use the method 'append()' from lists.\n",
    "    # append() takes one argument, which is the element we wish to add to the END of the list.\n",
    "    # In other words, the last value in the list is the last value we appended.\n",
    "    countries.append(country)\n",
    "    life_exp_changes.append(le_change)\n",
    "\n",
    "# As a courtesy to the computer, we should signal when we are done with the file. The .close()\n",
    "# method of file objects effectively 'closes' the access to the file. Attempting to read anything\n",
    "# else from the file from now on will give an error.\n",
    "#\n",
    "# When you are writing files, closing is particularly important to make sure you wrote everything\n",
    "# you wanted.\n",
    "# Python will sometimes wait until it has a lot of things to write before it actually writes, in\n",
    "# an attempt to make writing faster. When you call the .close() method, Python forcefully empties\n",
    "# this 'buffer', writing everything it had stored to the file.\n",
    "infile.close()"
   ]
  },
  {
   "cell_type": "code",
   "execution_count": null,
   "metadata": {},
   "outputs": [],
   "source": [
    "# To make sure we got what we wanted:\n",
    "print(countries)"
   ]
  },
  {
   "cell_type": "code",
   "execution_count": null,
   "metadata": {},
   "outputs": [],
   "source": [
    "# We can use the built-in function len() to get the number of elements in a list, or the size of\n",
    "# the list. The return value is an integer.\n",
    "len(countries)"
   ]
  },
  {
   "cell_type": "code",
   "execution_count": null,
   "metadata": {},
   "outputs": [],
   "source": [
    "# Our other list, life_exp_changes, contains the difference between the life expectancy values\n",
    "# in 2007 and 1952, for every country in the dataset. The values are stored as floats, because\n",
    "# they were the product of a subtraction between floats.\n",
    "print(life_exp_changes)"
   ]
  },
  {
   "cell_type": "code",
   "execution_count": null,
   "metadata": {},
   "outputs": [],
   "source": [
    "# We can now iterate over this list to calculate an average number for the life expectancy change\n",
    "# between 1952 and 2007 in our dataset of 142 countries.\n",
    "#\n",
    "# As a reminder, the average is calculated by adding all values in a dataset and dividing that\n",
    "# sum by the number of values in the dataset.\n",
    "\n",
    "total_sum = 0.0  # first, we define a new variable that will store the value of our total sum\n",
    "count = 0  # then we define another variable to keep track of how many elements we have in the list\n",
    "\n",
    "for item in life_exp_changes:  # for every item in our list\n",
    "    total_sum  = total_sum + item  # we add that value to our sum and assign the result to the sum variable again.\n",
    "    count = count + 1  # we add 1 to the number of items we saw so far\n",
    "\n",
    "# var = var + 1 works because Python evaluates the value first and then assigns it to the variable.\n",
    "# In other words, Python first retrieves what it knows to be the value of 'var', adds 1 to it, and\n",
    "# then assigns this new value to the variable 'var'.\n",
    "\n",
    "# Finally, we calculate the average (by dividing the sum over the count)\n",
    "average = total_sum / count\n",
    "print(average)"
   ]
  },
  {
   "cell_type": "code",
   "execution_count": null,
   "metadata": {},
   "outputs": [],
   "source": [
    "# However, Python includes a bunch of convenience built-in functions to simplify your life.\n",
    "# For example, the built-in function sum() adds all the elements in a list. Internally, it runs\n",
    "# a for-loop much like the one we wrote above. Then, as we saw, you can know the number of values\n",
    "# in a list by using the built-in function len().\n",
    "\n",
    "# As a result, we can reproduce the code above by the following statement:\n",
    "average2 = sum(life_exp_changes) / len(life_exp_changes)\n",
    "print(average2)"
   ]
  },
  {
   "cell_type": "code",
   "execution_count": null,
   "metadata": {},
   "outputs": [],
   "source": [
    "# Other useful built-in functions are for example min() and max(). These retrieve the smallest and\n",
    "# largest element in a list, respectively. The definition of smallest/largest depends on the type\n",
    "# of the variable. For numbers, min() returns the smallest value (numerically).\n",
    "min(life_exp_changes)"
   ]
  },
  {
   "cell_type": "code",
   "execution_count": null,
   "metadata": {},
   "outputs": [],
   "source": [
    "# In the case of strings, Python sorts them alphabetically and returns the 'first' entry:\n",
    "list_of_words = ['banana', 'zucchini', 'apple']\n",
    "print(min(list_of_words))"
   ]
  },
  {
   "cell_type": "markdown",
   "metadata": {},
   "source": [
    "## Conditionals"
   ]
  },
  {
   "cell_type": "code",
   "execution_count": null,
   "metadata": {},
   "outputs": [],
   "source": [
    "# Like many other languages, Python includes functionality to perform different operations\n",
    "# depending on the result of certain calculations. This ability allows us to execute different\n",
    "# blocks of code depending on certain conditions.\n",
    "\n",
    "# For example, let's write a for loop that iterates over our list 'life_exp_changes' and prints()\n",
    "# only the negative values.\n",
    "for value in life_exp_changes:\n",
    "    if value < 0:\n",
    "        print(value)"
   ]
  },
  {
   "cell_type": "code",
   "execution_count": null,
   "metadata": {},
   "outputs": [],
   "source": [
    "# This 'if' statement evaluates a conditional expression. If the condition is True, then the code\n",
    "# that is indented under the if-clause is executed, otherwise it's not.\n",
    "#\n",
    "# The syntax is very similar to a for loop:\n",
    "# The keyword 'if' is followed by an expression. This expression is often a comparison between\n",
    "# variables, or between variables and values (as in the case above). The comparison operators\n",
    "# included in Python are: > (greater than), < (lesser than), >= (greater or equal), <= (lesser or equal).\n",
    "# You can also directly compare for equality by using the operator '==' (double equals!) or inequality with '!='.\n",
    "#\n",
    "# You can chain multiple conditions using boolean logic and the keywords 'and'/'or'. Two conditions\n",
    "# chained by 'and' return True if both of them are True or both of them are False. Two conditions chained\n",
    "# by 'or' return True if any of them is True.\n",
    "#\n",
    "# As you can see, the boolean variable types are the core of comparisons in Python.\n",
    "#\n",
    "# After the colon, in the following lines, you indent (again, by 4 spaces) the lines of code\n",
    "# you want to be executed if that condition is True.\n",
    "#\n",
    "# Let's see another example. Let's get countries that end with the letter 'l':\n",
    "for name in countries:\n",
    "    if name[-1] == 'l':  # we can use indexing directly here!\n",
    "        print(name)"
   ]
  },
  {
   "cell_type": "code",
   "execution_count": null,
   "metadata": {},
   "outputs": [],
   "source": [
    "# Yet another example, countries that end in 'a' and start with 'B':\n",
    "for name in countries:\n",
    "    if name[-1] == 'a' and name[0] == 'B':  # remember, case sensitive!\n",
    "        print(name)"
   ]
  },
  {
   "cell_type": "code",
   "execution_count": null,
   "metadata": {},
   "outputs": [],
   "source": [
    "# If you want to do something ELSE when the condition is not True, you can use the keyword 'else'\n",
    "# in the for-loop, like this. All the code indented under 'else' will be executed whenever\n",
    "# the condition in the initial 'if' is not True. You can use this if-else combo to divide\n",
    "# operations in your code.\n",
    "for name in countries:\n",
    "    if name[-1] == 'a' and name[0] == 'B':  # remember, case sensitive!\n",
    "        print(name)\n",
    "    else:\n",
    "        print(name, 'does not meet our condition')"
   ]
  },
  {
   "cell_type": "markdown",
   "metadata": {},
   "source": [
    "## Wrap-up"
   ]
  },
  {
   "cell_type": "code",
   "execution_count": null,
   "metadata": {
    "scrolled": true
   },
   "outputs": [],
   "source": [
    "# The content we went over so far makes up the core of every Python program in existence.\n",
    "# Most Python programs will have for-loops, if-clauses, etc. If you understand these intro\n",
    "# concepts, with some practice, you will be able to read Python code and eventually start\n",
    "# writing it as well.\n",
    "\n",
    "# To consolidate everything we learned, let's write one small 'script' that does the following:\n",
    "# 1. Reads our data file\n",
    "# 2. Extracts country names and calculates life expectancy changes.\n",
    "# 3. Open a new file for writing\n",
    "# 4a. Writes the name and life expect. changes for those countries where the change is negative.\n",
    "# 4b. For all others, it displays on screen (not to file!) a warning.\n",
    "\n",
    "# (1)\n",
    "infile = open('gapminder_lifeexp.txt', 'r')\n",
    "_ = infile.readline()\n",
    "\n",
    "# (2)\n",
    "countries = []\n",
    "life_exp_changes = []\n",
    "\n",
    "for line in infile:\n",
    "    fields = line.strip().split(',')\n",
    "    \n",
    "    country = fields[1]\n",
    "    le_change = float(fields[-1]) - float(fields[2])\n",
    "    \n",
    "    countries.append(country)\n",
    "    life_exp_changes.append(le_change)\n",
    "\n",
    "infile.close()\n",
    "\n",
    "# (3)\n",
    "outfile = open('negative_lifeExp.txt', 'w')\n",
    "\n",
    "# Because we want to iterate over the two lists at the same time, we will use the range() built-in\n",
    "# function to generate a list of indexes. There are other ways of doing this, but this one is the\n",
    "# simplest for now.\n",
    "#\n",
    "# range() takes as an argument a number and it will return a list of consecutive numbers from 0 up\n",
    "# to but NOT including that number. This is particularly useful since positional indexes of lists\n",
    "# also start from 0. We can therefore use the len() function to obtain the number of elements in\n",
    "# a list and combine it with range to obtain a list of numerical indexes that we can iterate on.\n",
    "#\n",
    "num_countries = len(countries)  # 142\n",
    "index_list = range(num_countries)  # 0, 1, 2, ... until 141\n",
    "for idx in index_list:\n",
    "    country_name = countries[idx]  # we access the values of each list at position 'idx'\n",
    "    value = life_exp_changes[idx]\n",
    "\n",
    "    if value < 0:  # (4a)\n",
    "        # the print function can take an additional argument called 'file' that specifies \n",
    "        # a file object to write to. We define it as if we were defining a variable.\n",
    "        # As a result, this print() will not display the values to the screen, but it will\n",
    "        # write them to the file open in 'outfile'.\n",
    "        #\n",
    "        # Also, since we are concatenating the values (+), they must all be converted to strings\n",
    "        # otherwise we will get a type error.\n",
    "        print(str(idx) + ',' + country_name + ',' + str(value), file=outfile)\n",
    "    else:  # (4b)\n",
    "        # This is a regular print(), which will display to our screen\n",
    "        print('ignoring', countries[idx])\n",
    "\n",
    "outfile.close()"
   ]
  },
  {
   "cell_type": "code",
   "execution_count": null,
   "metadata": {},
   "outputs": [],
   "source": [
    "# The result is a newly created file in the folder where you have the Jupyter notebook.\n",
    "# This file contains two lines, also comma-separated, with the countries in our data set\n",
    "# that had a smaller life expectancy in 2007 than they had in 1952."
   ]
  }
 ],
 "metadata": {
  "kernelspec": {
   "display_name": "Python 3",
   "language": "python",
   "name": "python3"
  },
  "language_info": {
   "codemirror_mode": {
    "name": "ipython",
    "version": 3
   },
   "file_extension": ".py",
   "mimetype": "text/x-python",
   "name": "python",
   "nbconvert_exporter": "python",
   "pygments_lexer": "ipython3",
   "version": "3.7.4"
  }
 },
 "nbformat": 4,
 "nbformat_minor": 2
}
