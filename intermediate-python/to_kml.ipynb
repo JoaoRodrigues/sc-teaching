{
 "cells": [
  {
   "cell_type": "code",
   "execution_count": null,
   "metadata": {},
   "outputs": [],
   "source": [
    "import simplekml\n",
    "\n",
    "def radians_to_degrees(value):\n",
    "    \"\"\"Converts a lat/lon value in radians to degrees\"\"\"\n",
    "    return float(value) * 180 / 3.14\n",
    "\n",
    "kml = simplekml.Kml()\n",
    "\n",
    "for city in route:\n",
    "    kml.newpoint(name=city.name, coords=[(radians_to_degrees(city.lon), radians_to_degrees(city.lat))])\n",
    "    \n",
    "kml.save('route2.kml')"
   ]
  }
 ],
 "metadata": {
  "kernelspec": {
   "display_name": "Python 3",
   "language": "python",
   "name": "python3"
  },
  "language_info": {
   "codemirror_mode": {
    "name": "ipython",
    "version": 3
   },
   "file_extension": ".py",
   "mimetype": "text/x-python",
   "name": "python",
   "nbconvert_exporter": "python",
   "pygments_lexer": "ipython3",
   "version": "3.7.3"
  }
 },
 "nbformat": 4,
 "nbformat_minor": 4
}
