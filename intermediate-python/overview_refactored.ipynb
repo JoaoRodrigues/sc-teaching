{
 "cells": [
  {
   "cell_type": "code",
   "execution_count": null,
   "metadata": {},
   "outputs": [],
   "source": [
    "\"\"\"\n",
    "Script to calculate road trip routes between two cities.\n",
    "\"\"\"\n",
    "\n",
    "import collections\n",
    "import csv\n",
    "import math\n",
    "\n",
    "FILENAME = 'usa_cities.csv'\n",
    "START_POINT = 'San Francisco, California'\n",
    "END_POINT = 'Dallas, Texas'\n",
    "KM_PER_DAY = 250\n",
    "\n",
    "def parse_dataset(reader):\n",
    "def retrieve_city_from_db(city_string, database):\n",
    "def degrees_to_radians(value):\n",
    "def haversine_distance(city_i, city_j):\n",
    "def get_city_neighbors(query, database, radius=500):\n",
    "def take_shortest_route(neighbors, route, end_point):\n",
    "\n",
    "with open(FILENAME, encoding='utf-8') as handle:\n",
    "    reader = csv.reader(handle)   \n",
    "    database = parse_dataset(reader)\n",
    "\n",
    "print(f'Read {len(database)} cities from database')\n",
    "\n",
    "sp_city = retrieve_city_from_db(START_POINT, database)\n",
    "ep_city = retrieve_city_from_db(END_POINT, database)\n",
    "\n",
    "route = collections.OrderedDict()\n",
    "route[sp_city] = None\n",
    "    \n",
    "current_city = sp_city\n",
    "while current_city != ep_city:\n",
    "    neighbors = get_city_neighbors(current_city, database, radius=KM_PER_DAY)\n",
    "    current_city = pick_next_city(neighbors, route, ep_city)\n",
    "    route[current_city] = None\n",
    "\n",
    "print(f'Found route with {len(route)} stops')\n",
    "for idx, city in enumerate(route, start=1):\n",
    "    print(f'Day #{idx}: {city.name}, {city.state}')"
   ]
  }
 ],
 "metadata": {
  "kernelspec": {
   "display_name": "Python 3",
   "language": "python",
   "name": "python3"
  },
  "language_info": {
   "codemirror_mode": {
    "name": "ipython",
    "version": 3
   },
   "file_extension": ".py",
   "mimetype": "text/x-python",
   "name": "python",
   "nbconvert_exporter": "python",
   "pygments_lexer": "ipython3",
   "version": "3.7.3"
  }
 },
 "nbformat": 4,
 "nbformat_minor": 4
}
