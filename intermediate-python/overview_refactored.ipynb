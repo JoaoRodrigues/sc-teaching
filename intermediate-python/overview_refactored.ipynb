{
 "cells": [
  {
   "cell_type": "code",
   "execution_count": null,
   "metadata": {},
   "outputs": [],
   "source": [
    "\"\"\"\n",
    "Script to calculate road trip routes between two cities.\n",
    "\"\"\"\n",
    "\n",
    "import collections\n",
    "import csv\n",
    "import math\n",
    "\n",
    "FILENAME = 'usa_cities.csv'\n",
    "START_POINT = 'San Francisco, California'\n",
    "END_POINT = 'Dallas, Texas'\n",
    "KM_PER_DAY = 250\n",
    "\n",
    "def parse_dataset(reader):\n",
    "def retrieve_city_from_db(city_string, database):\n",
    "def degrees_to_radians(value):\n",
    "def haversine_distance(city_i, city_j):\n",
    "def get_city_neighbors(query, database, radius=500):\n",
    "def take_shortest_route(neighbors, route, end_point):\n",
    "def display_route(route):\n",
    "\n",
    "with open(FILENAME, encoding='utf-8') as handle:\n",
    "    reader = csv.reader(handle)   \n",
    "    city_dict_db = parse_dataset(reader)\n",
    "\n",
    "print(f'Read {len(city_dict_db)} cities from database')\n",
    "\n",
    "sp_city = retrieve_city_from_db(START_POINT, city_dict_db)\n",
    "ep_city = retrieve_city_from_db(END_POINT, city_dict_db)\n",
    "\n",
    "route = collections.OrderedDict()\n",
    "route[sp_city] = None\n",
    "    \n",
    "current_city = sp_city\n",
    "while current_city != ep_city:\n",
    "    neighbors = get_city_neighbors(current_city, city_dict_db, radius=KM_PER_DAY)\n",
    "    current_city = take_shortest_route(neighbors, route, ep_city)\n",
    "    route[current_city] = None\n",
    "\n",
    "display_route(route)"
   ]
  }
 ],
 "metadata": {
  "kernelspec": {
   "display_name": "Python 3",
   "language": "python",
   "name": "python3"
  },
  "language_info": {
   "codemirror_mode": {
    "name": "ipython",
    "version": 3
   },
   "file_extension": ".py",
   "mimetype": "text/x-python",
   "name": "python",
   "nbconvert_exporter": "python",
   "pygments_lexer": "ipython3",
   "version": "3.7.3"
  }
 },
 "nbformat": 4,
 "nbformat_minor": 4
}
