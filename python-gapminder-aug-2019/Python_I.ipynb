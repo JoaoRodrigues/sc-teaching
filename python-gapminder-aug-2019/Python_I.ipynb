{
 "cells": [
  {
   "cell_type": "markdown",
   "metadata": {},
   "source": [
    "# Plotting and Programming in Python\n",
    "## August 26 and 27, 2019\n",
    "In today's lesson, we will cover the basics of the Python programming language and introduce two of its most famous data science libraries: _pandas_ and _matplotlib_."
   ]
  },
  {
   "cell_type": "markdown",
   "metadata": {},
   "source": [
    "## Variables and Assignment"
   ]
  },
  {
   "cell_type": "markdown",
   "metadata": {},
   "source": [
    "A variable is a name for a value stored in your computer. This value can be a number, text, or a piece of code. When you create a variable, you can refer to it later in your program to retrieve whatever information it stores. In Python, you create (or assign) variables using the `=` symbol; to the left of the `=` is the name of the variable and to the right its value. "
   ]
  },
  {
   "cell_type": "code",
   "execution_count": 134,
   "metadata": {},
   "outputs": [],
   "source": [
    "var = 33"
   ]
  },
  {
   "cell_type": "code",
   "execution_count": 135,
   "metadata": {},
   "outputs": [],
   "source": [
    "another_var = \"Joao\""
   ]
  },
  {
   "cell_type": "markdown",
   "metadata": {},
   "source": [
    "Knowing how to name your variables is _extremely_ important. After all, code is meant to be read. As such, both your future self and your colleagues will appreciate if you put effort in creating clear and informative variable names.\n",
    "\n",
    "In Python, naming variables follows two simple rules: (1) variable names cannot start with a digit (e.g. 1variable) and (2) they can only contain letters, digits, and underscores. Besides these two rules, Python does not care what you call your variables. People do, however. There are several conventions to naming variables in the Python community, namely those enshrined in the PEP8, the so-called \"official\" Python Style Guide. Its authors _suggest_ that you use lowercase letters for variable names and underscores to separate words, e.g. `first_name` versus `FirstName`.\n",
    "\n",
    "Regardless of these suggestions, the most important is to be _consistent_ and to follow whatever conventions others working with you use already. Again, code is meant to be read. The easier someone reads it, the faster they'll understand it, use it, and change it. Use simple and meaningful names. Abbreviations are also fine, as long as they are obvious to the reader: e.g. `idx` instead of `index`, `res` for `residue`, and `aa` for `aminoacid`.\n",
    "\n",
    "Lastly, there are some few words that you cannot use as variable names, because they represent special commands or _statements_ in Python. These include  `if` or `for` or `with`. Trying to assign a variable with one of these names will result in an error:"
   ]
  },
  {
   "cell_type": "code",
   "execution_count": 3,
   "metadata": {},
   "outputs": [
    {
     "ename": "SyntaxError",
     "evalue": "invalid syntax (<ipython-input-3-d3ac3f1b5d05>, line 1)",
     "output_type": "error",
     "traceback": [
      "\u001b[1;36m  File \u001b[1;32m\"<ipython-input-3-d3ac3f1b5d05>\"\u001b[1;36m, line \u001b[1;32m1\u001b[0m\n\u001b[1;33m    if = \"Will this work?\"\u001b[0m\n\u001b[1;37m       ^\u001b[0m\n\u001b[1;31mSyntaxError\u001b[0m\u001b[1;31m:\u001b[0m invalid syntax\n"
     ]
    }
   ],
   "source": [
    "if = \"Will this work?\""
   ]
  },
  {
   "cell_type": "markdown",
   "metadata": {},
   "source": [
    "Let's rename our variables appropriately then:"
   ]
  },
  {
   "cell_type": "code",
   "execution_count": 136,
   "metadata": {},
   "outputs": [],
   "source": [
    "age = 33\n",
    "first_name = \"Joao\""
   ]
  },
  {
   "cell_type": "markdown",
   "metadata": {},
   "source": [
    "While the computer always knows what a certain variable represents, we readers don't. In programs with thousands of lines and complex operations, it is easy to lose track of what the current value of a specific variable is. Enter the `print()` function. We will learn more about functions later but for now, consider a function as something that takes values (input) and returns transformed values (output). In Python, the input values passed to a function are called arguments.\n",
    "\n",
    "The `print()` function exists to output things as text. Its arguments can either be variables or values themselves."
   ]
  },
  {
   "cell_type": "code",
   "execution_count": 26,
   "metadata": {},
   "outputs": [
    {
     "name": "stdout",
     "output_type": "stream",
     "text": [
      "Joao\n"
     ]
    }
   ],
   "source": [
    "print(\"Joao\")"
   ]
  },
  {
   "cell_type": "code",
   "execution_count": 27,
   "metadata": {},
   "outputs": [
    {
     "name": "stdout",
     "output_type": "stream",
     "text": [
      "Joao\n"
     ]
    }
   ],
   "source": [
    "print(first_name)"
   ]
  },
  {
   "cell_type": "markdown",
   "metadata": {},
   "source": [
    "This last example highlights an important feature of Jupyter notebooks that is worth remembering. When you declare a variable in one cell and evaluate that cell, all other cells in the notebook can access that variable. In other words, the order in which _cells are written_ in the notebook is not important. What matters is the order in which _cells are executed_. Regardless, do yourself and others a favor and keep a nice logical flow in your notebooks!"
   ]
  },
  {
   "cell_type": "markdown",
   "metadata": {},
   "source": [
    "The `print()` function can also be used to output multiple variables or values, allowing us to write full sentences. In this case, the function adds a space between each output item to separate them. In addition, by default, it also adds a line break, or newline character, after the last item."
   ]
  },
  {
   "cell_type": "code",
   "execution_count": 9,
   "metadata": {},
   "outputs": [
    {
     "name": "stdout",
     "output_type": "stream",
     "text": [
      "Joao is 33 years old\n"
     ]
    }
   ],
   "source": [
    "print(first_name, 'is', age, 'years old')"
   ]
  },
  {
   "cell_type": "markdown",
   "metadata": {},
   "source": [
    "As expected, trying to print a variable that we did not defined before will result in an error. The computer does not know what that name points to! This error is quite common, both for beginners and veteran programmers alike, and often arises from typos in variable names. Make sure to always double check your code when you get an error - look specifically for misplaced underscores and for case swaps. Variable names in Python are case sensitive:"
   ]
  },
  {
   "cell_type": "code",
   "execution_count": 30,
   "metadata": {},
   "outputs": [
    {
     "ename": "NameError",
     "evalue": "name 'First_Name' is not defined",
     "output_type": "error",
     "traceback": [
      "\u001b[1;31m---------------------------------------------------------------------------\u001b[0m",
      "\u001b[1;31mNameError\u001b[0m                                 Traceback (most recent call last)",
      "\u001b[1;32m<ipython-input-30-6f12a6fab77d>\u001b[0m in \u001b[0;36m<module>\u001b[1;34m\u001b[0m\n\u001b[1;32m----> 1\u001b[1;33m \u001b[0mprint\u001b[0m\u001b[1;33m(\u001b[0m\u001b[0mFirst_Name\u001b[0m\u001b[1;33m)\u001b[0m\u001b[1;33m\u001b[0m\u001b[1;33m\u001b[0m\u001b[0m\n\u001b[0m",
      "\u001b[1;31mNameError\u001b[0m: name 'First_Name' is not defined"
     ]
    }
   ],
   "source": [
    "print(First_Name)"
   ]
  },
  {
   "cell_type": "markdown",
   "metadata": {},
   "source": [
    "Variables can also be assigned to other variables, instead of values. While this might seem confusing - why would you want two variables pointing to the same piece of information? - it comes handy when dealing with functions and different scopes. These are concepts we will learn later in the lesson."
   ]
  },
  {
   "cell_type": "markdown",
   "metadata": {},
   "source": [
    "__Exercise__\n",
    "\n",
    "Look at the following piece of code and run it in your head. What do you think is the final value of `x`?\n",
    "\n",
    "(A) `1`\n",
    "\n",
    "(B) `42`\n",
    "\n",
    "(C) `\"three\"`"
   ]
  },
  {
   "cell_type": "code",
   "execution_count": 36,
   "metadata": {},
   "outputs": [],
   "source": [
    "x = 1\n",
    "y = \"three\"\n",
    "\n",
    "x = y\n",
    "\n",
    "y = 42"
   ]
  },
  {
   "cell_type": "code",
   "execution_count": 37,
   "metadata": {},
   "outputs": [
    {
     "name": "stdout",
     "output_type": "stream",
     "text": [
      "three\n"
     ]
    }
   ],
   "source": [
    "print(x)"
   ]
  },
  {
   "cell_type": "markdown",
   "metadata": {},
   "source": [
    "In many programming languages, creating a variable creates a space in the computer's memory that stores a particular value. In Python, however, variables are just _pointers_ to _objects_ that store values themselves. What this means is that in Python, variables do not store values but simply point to _something_ that stores a value. This is the reason why the code in the previous cell works the way it does.\n",
    "\n",
    "First, we define `x` and `y` as pointing to `1` and `3`, respectively. Then, we assign the value of `y` to `x`, effectively saying \"x is now pointing to what y is pointing to\". As such, changing the value of `y` after this does not impact the value of `x`: `x` keeps pointing to whatever `y` was pointing to before, and `y` points to something new."
   ]
  },
  {
   "cell_type": "markdown",
   "metadata": {},
   "source": [
    "## Data Types"
   ]
  },
  {
   "cell_type": "markdown",
   "metadata": {},
   "source": [
    "Now that we got the hang of defining variables and printing values, let's go back to our `age` and `first_name` variables. What is the difference between the declarations of these two variables?"
   ]
  },
  {
   "cell_type": "markdown",
   "metadata": {},
   "source": [
    "The variable `age` was assigned to 33, without quotes, while `first_name` was assigned to a value inside quotes. This syntax tells Python that `age` is an _integer_ while `first_name` is a _string_. Integers and strings are two of the several data types encoded in Python.\n",
    "\n",
    "Going slightly more in-depth, Python is what is called a _dynamically-typed_ language, in contrast to _statically-typed_ languages like C. Variables themselves do not have types, because they are pointers to objects. As such, at different points in time, the same variable can point to different objects, like we saw in the example above. Objects, however, _do_ have types, which we can check with the `type()` function:"
   ]
  },
  {
   "cell_type": "code",
   "execution_count": 34,
   "metadata": {},
   "outputs": [
    {
     "name": "stdout",
     "output_type": "stream",
     "text": [
      "<class 'int'>\n"
     ]
    }
   ],
   "source": [
    "print(type(age))"
   ]
  },
  {
   "cell_type": "code",
   "execution_count": 35,
   "metadata": {},
   "outputs": [
    {
     "name": "stdout",
     "output_type": "stream",
     "text": [
      "<class 'str'>\n"
     ]
    }
   ],
   "source": [
    "print(type(first_name))"
   ]
  },
  {
   "cell_type": "code",
   "execution_count": 158,
   "metadata": {},
   "outputs": [
    {
     "name": "stdout",
     "output_type": "stream",
     "text": [
      "<class 'type'>\n"
     ]
    }
   ],
   "source": [
    "print(type(type(first_name)))"
   ]
  },
  {
   "cell_type": "markdown",
   "metadata": {},
   "source": [
    "So, what are the basic data types defined in Python?"
   ]
  },
  {
   "cell_type": "code",
   "execution_count": 57,
   "metadata": {},
   "outputs": [],
   "source": [
    "an_int = 33  # whole numbers\n",
    "a_str = \"thirty-three\"  # characters or text\n",
    "a_float = 33.0  # real numbers (decimals)\n",
    "a_complex = 2j + 1  # complex numbers (real + imaginary)\n",
    "a_bool = True  # True or False\n",
    "a_nonetype = None  # special object indicating a null value"
   ]
  },
  {
   "cell_type": "markdown",
   "metadata": {},
   "source": [
    "The different data types have different purposes, properties, and support different operations. In most cases, mixing data types results in an error, e.g. adding an integer to a string."
   ]
  },
  {
   "cell_type": "code",
   "execution_count": 138,
   "metadata": {},
   "outputs": [
    {
     "ename": "TypeError",
     "evalue": "unsupported operand type(s) for +: 'int' and 'str'",
     "output_type": "error",
     "traceback": [
      "\u001b[1;31m---------------------------------------------------------------------------\u001b[0m",
      "\u001b[1;31mTypeError\u001b[0m                                 Traceback (most recent call last)",
      "\u001b[1;32m<ipython-input-138-12be6bd23047>\u001b[0m in \u001b[0;36m<module>\u001b[1;34m\u001b[0m\n\u001b[1;32m----> 1\u001b[1;33m \u001b[0mresult\u001b[0m \u001b[1;33m=\u001b[0m \u001b[0man_int\u001b[0m \u001b[1;33m+\u001b[0m \u001b[0ma_str\u001b[0m\u001b[1;33m\u001b[0m\u001b[1;33m\u001b[0m\u001b[0m\n\u001b[0m",
      "\u001b[1;31mTypeError\u001b[0m: unsupported operand type(s) for +: 'int' and 'str'"
     ]
    }
   ],
   "source": [
    "result = an_int + a_str"
   ]
  },
  {
   "cell_type": "markdown",
   "metadata": {},
   "source": [
    "Let's have a look at each data type in more detail."
   ]
  },
  {
   "cell_type": "markdown",
   "metadata": {},
   "source": [
    "### NoneType\n",
    "The NoneType is a special object in Python that represents a \"null\" value. You will often find it as the default return value of functions. For example, `print()` does not return anything. If we assign its return value to a variable and print it, we get `None` back."
   ]
  },
  {
   "cell_type": "code",
   "execution_count": 114,
   "metadata": {},
   "outputs": [
    {
     "name": "stdout",
     "output_type": "stream",
     "text": [
      "banana\n",
      "None\n"
     ]
    }
   ],
   "source": [
    "result = print('banana')\n",
    "print(result)"
   ]
  },
  {
   "cell_type": "markdown",
   "metadata": {},
   "source": [
    "### Boolean"
   ]
  },
  {
   "cell_type": "markdown",
   "metadata": {},
   "source": [
    "Booleans are simple types with two possible values - `True` or `False` - which are usually used together with conditional statements, which we will cover later in this lesson. For now, it is important to remember that every single Python object evaluates to a boolean value:\n",
    "\n",
    "* The number 0 (integer or float), any empty sequence (including empty strings), and the `None` value __always__ evaluate to `False`\n",
    "* Anything else evaluates to `True`"
   ]
  },
  {
   "cell_type": "code",
   "execution_count": 113,
   "metadata": {},
   "outputs": [
    {
     "name": "stdout",
     "output_type": "stream",
     "text": [
      "False\n",
      "False\n",
      "True\n",
      "True\n"
     ]
    }
   ],
   "source": [
    "print(bool(0.0))\n",
    "print(bool(\"\"))\n",
    "print(bool(123))\n",
    "print(bool(\" \"))"
   ]
  },
  {
   "cell_type": "markdown",
   "metadata": {},
   "source": [
    "### Numerical Types"
   ]
  },
  {
   "cell_type": "markdown",
   "metadata": {},
   "source": [
    "Integers and floats support all basic arithmetic operations: addition, subtraction, multiplication, and division, as well as others. You can combine all these operators in long expressions, allowing you to code more complex equations. Python arithmetics follows standard operation precedence rules: exponentiation before multiplication/division before addition/subtraction. You can use parenthesis to force operations to take precedence, just like in regular pen-and-paper math. "
   ]
  },
  {
   "cell_type": "code",
   "execution_count": 159,
   "metadata": {},
   "outputs": [
    {
     "name": "stdout",
     "output_type": "stream",
     "text": [
      "sum: 5\n",
      "subtraction: -1\n",
      "multiplication: 6\n",
      "true division: 0.6666666666666666\n",
      "exponentiation: 9\n",
      "integer division: 0\n",
      "modulus: 2\n"
     ]
    }
   ],
   "source": [
    "i = 2\n",
    "j = 3\n",
    "\n",
    "print('sum:', i + j)\n",
    "print('subtraction:', i - j)\n",
    "print('multiplication:', i * j)\n",
    "print('true division:', i / j)  # note the change to a float type\n",
    "print('exponentiation:', j ** i)\n",
    "print('integer division:', i // j)\n",
    "print('modulus:', i % j)"
   ]
  },
  {
   "cell_type": "markdown",
   "metadata": {},
   "source": [
    "As seen above, some operations on integers return floating point numbers, and vice-versa. As a general rule, numerical operations with float and integer types return floats. The exceptions are integer division and modulus operations, that always return integers. Operations between integers always return integers, except for true division (`/`), which always returns a float."
   ]
  },
  {
   "cell_type": "code",
   "execution_count": 60,
   "metadata": {},
   "outputs": [
    {
     "name": "stdout",
     "output_type": "stream",
     "text": [
      "29.5 <class 'float'>\n"
     ]
    }
   ],
   "source": [
    "result = 23 + 6.5\n",
    "print(result, type(result))"
   ]
  },
  {
   "cell_type": "markdown",
   "metadata": {},
   "source": [
    "__Exercise__\n",
    "\n",
    "Complete the following code to calculate the euclidean distance between two points, knowing that the formula is:\n",
    "$\\sqrt{(x1 - x2)^2 + (y1 - y2)^2}$"
   ]
  },
  {
   "cell_type": "code",
   "execution_count": 195,
   "metadata": {},
   "outputs": [
    {
     "name": "stdout",
     "output_type": "stream",
     "text": [
      "1.4142135623730951\n"
     ]
    }
   ],
   "source": [
    "x1 = 0.0\n",
    "y1 = 0.0\n",
    "x2 = 1.0\n",
    "y2 = 1.0\n",
    "\n",
    "# euclidean_distance = _____\n",
    "euclidean_distance = ((x1-x2)**2 + (y1-y2)**2)**0.5\n",
    "print(euclidean_distance)"
   ]
  },
  {
   "cell_type": "markdown",
   "metadata": {},
   "source": [
    "### Strings\n",
    "Strings are an example of a so-called _sequence_ type. Unlike numerical types like ints and floats, which represent one value, strings are actually a collection of multiple characters. Moreover, they are ordered, which means we can access them individually by providing a positional index.\n",
    "\n",
    "To access elements of a string, we use square brackets. Inside the square brackets, we write the positional index of the characters we want to extract. **In Python, the first index in any sequence is zero, not one.**"
   ]
  },
  {
   "cell_type": "code",
   "execution_count": 93,
   "metadata": {},
   "outputs": [],
   "source": [
    "atom_name = 'helium'"
   ]
  },
  {
   "cell_type": "code",
   "execution_count": 94,
   "metadata": {},
   "outputs": [
    {
     "name": "stdout",
     "output_type": "stream",
     "text": [
      "h\n"
     ]
    }
   ],
   "source": [
    "first_letter = atom_name[0]\n",
    "print(first_letter)"
   ]
  },
  {
   "cell_type": "markdown",
   "metadata": {},
   "source": [
    "We can access multiple characters, ie to extract a substring, using the slice notation. Slices are also objects in Python and contain three elements, _start_, _end_, and _step_, separated by `:` characters. Importantly, slices are __not inclusive__ on the end index. In other words, the character at the position defined by the _end_ element will not be included in the output substring."
   ]
  },
  {
   "cell_type": "code",
   "execution_count": 95,
   "metadata": {},
   "outputs": [
    {
     "name": "stdout",
     "output_type": "stream",
     "text": [
      "hel\n"
     ]
    }
   ],
   "source": [
    "substr = atom_name[0:3]\n",
    "print(substr)"
   ]
  },
  {
   "cell_type": "markdown",
   "metadata": {},
   "source": [
    "If you want to slice from the beginning of the string, or until the end of the string, you can omit the start or end element respectively. Omitting both returns a copy of the original string."
   ]
  },
  {
   "cell_type": "code",
   "execution_count": 97,
   "metadata": {},
   "outputs": [
    {
     "name": "stdout",
     "output_type": "stream",
     "text": [
      "hel\n",
      "helium\n",
      "helium\n"
     ]
    }
   ],
   "source": [
    "print(atom_name[:3])\n",
    "print(atom_name[0:])\n",
    "print(atom_name[:])"
   ]
  },
  {
   "cell_type": "markdown",
   "metadata": {},
   "source": [
    "The _step_ element of slices allows us to return only every n-th element of the string. By default, the step is 1, but we can change it:"
   ]
  },
  {
   "cell_type": "code",
   "execution_count": 108,
   "metadata": {},
   "outputs": [
    {
     "name": "stdout",
     "output_type": "stream",
     "text": [
      "hlu\n"
     ]
    }
   ],
   "source": [
    "print(atom_name[::2])"
   ]
  },
  {
   "cell_type": "markdown",
   "metadata": {},
   "source": [
    "An interesting feature of Python sequences is the support for _negative_ indexes. What do you think the following code returns?"
   ]
  },
  {
   "cell_type": "code",
   "execution_count": 109,
   "metadata": {},
   "outputs": [
    {
     "name": "stdout",
     "output_type": "stream",
     "text": [
      "m\n"
     ]
    }
   ],
   "source": [
    "print(atom_name[-1])"
   ]
  },
  {
   "cell_type": "markdown",
   "metadata": {},
   "source": [
    "__Exercise__\n",
    "\n",
    "Can you think of a way to combine negative indexing and slicing to invert a string (revert the order of all characters)?"
   ]
  },
  {
   "cell_type": "code",
   "execution_count": 107,
   "metadata": {},
   "outputs": [
    {
     "name": "stdout",
     "output_type": "stream",
     "text": [
      "helium reversed is muileh\n"
     ]
    }
   ],
   "source": [
    "reverse = atom_name[::-1]\n",
    "print(atom_name, \"reversed is\", reverse)"
   ]
  },
  {
   "cell_type": "markdown",
   "metadata": {},
   "source": [
    "Finally, some arithmetic operators work on strings, but they obviously do not do math. Adding two strings joins them, i.e. string concatenation. Multiplying a string by an integer, on the other hand, repeats the string _n_ times. Subtraction, division, and any other of the previously demonstrated operators will give an error if applied to strings."
   ]
  },
  {
   "cell_type": "code",
   "execution_count": 118,
   "metadata": {},
   "outputs": [
    {
     "name": "stdout",
     "output_type": "stream",
     "text": [
      "badgerbadger\n"
     ]
    }
   ],
   "source": [
    "result = 'badger' + 'badger'\n",
    "print(result)"
   ]
  },
  {
   "cell_type": "code",
   "execution_count": 117,
   "metadata": {},
   "outputs": [
    {
     "name": "stdout",
     "output_type": "stream",
     "text": [
      "badgerbadgerbadgerbadgerbadgerbadgerbadgerbadgerbadgerbadger\n"
     ]
    }
   ],
   "source": [
    "result = 'badger' * 10\n",
    "print(result)"
   ]
  },
  {
   "cell_type": "code",
   "execution_count": 110,
   "metadata": {},
   "outputs": [
    {
     "ename": "TypeError",
     "evalue": "unsupported operand type(s) for -: 'str' and 'int'",
     "output_type": "error",
     "traceback": [
      "\u001b[1;31m---------------------------------------------------------------------------\u001b[0m",
      "\u001b[1;31mTypeError\u001b[0m                                 Traceback (most recent call last)",
      "\u001b[1;32m<ipython-input-110-d452f4b58641>\u001b[0m in \u001b[0;36m<module>\u001b[1;34m\u001b[0m\n\u001b[1;32m----> 1\u001b[1;33m \u001b[0mresult\u001b[0m \u001b[1;33m=\u001b[0m \u001b[0ma_str\u001b[0m \u001b[1;33m-\u001b[0m \u001b[1;36m3\u001b[0m\u001b[1;33m\u001b[0m\u001b[1;33m\u001b[0m\u001b[0m\n\u001b[0m",
      "\u001b[1;31mTypeError\u001b[0m: unsupported operand type(s) for -: 'str' and 'int'"
     ]
    }
   ],
   "source": [
    "result = a_str - 3"
   ]
  },
  {
   "cell_type": "markdown",
   "metadata": {},
   "source": [
    "You can however, convert certain strings to ints or floats. The reverse, converting ints or floats to strings, always works."
   ]
  },
  {
   "cell_type": "code",
   "execution_count": 122,
   "metadata": {},
   "outputs": [
    {
     "name": "stdout",
     "output_type": "stream",
     "text": [
      "6\n",
      "3.1\n"
     ]
    }
   ],
   "source": [
    "three = \"3\"\n",
    "print(int(three) + 3)\n",
    "print(float(three) + 0.1)"
   ]
  },
  {
   "cell_type": "code",
   "execution_count": 133,
   "metadata": {},
   "outputs": [
    {
     "name": "stdout",
     "output_type": "stream",
     "text": [
      "12233\n"
     ]
    }
   ],
   "source": [
    "big_int = 122333444455555666666777777788888888\n",
    "big_str = str(big_int)\n",
    "print(big_str[0:5])"
   ]
  },
  {
   "cell_type": "markdown",
   "metadata": {},
   "source": [
    "### Type Conversions"
   ]
  },
  {
   "cell_type": "markdown",
   "metadata": {},
   "source": [
    "You can forcefully convert (or cast, or coerce) one type into another, which comes handy some times. There are, however, some caveats to keep in mind."
   ]
  },
  {
   "cell_type": "code",
   "execution_count": 147,
   "metadata": {},
   "outputs": [
    {
     "name": "stdout",
     "output_type": "stream",
     "text": [
      "result is 29.5 which cast as an int is 29\n"
     ]
    }
   ],
   "source": [
    "result = 23 + 6.5\n",
    "print('result is', result, 'which cast as an int is', int(result))"
   ]
  },
  {
   "cell_type": "code",
   "execution_count": 148,
   "metadata": {},
   "outputs": [
    {
     "name": "stdout",
     "output_type": "stream",
     "text": [
      "3\n"
     ]
    }
   ],
   "source": [
    "print(int(\"3\"))"
   ]
  },
  {
   "cell_type": "code",
   "execution_count": 149,
   "metadata": {},
   "outputs": [
    {
     "ename": "ValueError",
     "evalue": "invalid literal for int() with base 10: 'three'",
     "output_type": "error",
     "traceback": [
      "\u001b[1;31m---------------------------------------------------------------------------\u001b[0m",
      "\u001b[1;31mValueError\u001b[0m                                Traceback (most recent call last)",
      "\u001b[1;32m<ipython-input-149-7dc9d52798b5>\u001b[0m in \u001b[0;36m<module>\u001b[1;34m\u001b[0m\n\u001b[1;32m----> 1\u001b[1;33m \u001b[0mprint\u001b[0m\u001b[1;33m(\u001b[0m\u001b[0mint\u001b[0m\u001b[1;33m(\u001b[0m\u001b[1;34m\"three\"\u001b[0m\u001b[1;33m)\u001b[0m\u001b[1;33m)\u001b[0m\u001b[1;33m\u001b[0m\u001b[1;33m\u001b[0m\u001b[0m\n\u001b[0m",
      "\u001b[1;31mValueError\u001b[0m: invalid literal for int() with base 10: 'three'"
     ]
    }
   ],
   "source": [
    "print(int(\"three\"))"
   ]
  },
  {
   "cell_type": "markdown",
   "metadata": {},
   "source": [
    "Boolean values also have numerical representations."
   ]
  },
  {
   "cell_type": "code",
   "execution_count": 153,
   "metadata": {},
   "outputs": [
    {
     "name": "stdout",
     "output_type": "stream",
     "text": [
      "True is 1 and False is 0\n"
     ]
    }
   ],
   "source": [
    "print(\"True is\", int(True), \"and False is\", int(False))"
   ]
  },
  {
   "cell_type": "markdown",
   "metadata": {},
   "source": [
    "This leads to some odd operations that nevertheless come very handy sometimes:"
   ]
  },
  {
   "cell_type": "code",
   "execution_count": 155,
   "metadata": {},
   "outputs": [
    {
     "name": "stdout",
     "output_type": "stream",
     "text": [
      "2\n"
     ]
    }
   ],
   "source": [
    "print(True + True)"
   ]
  },
  {
   "cell_type": "markdown",
   "metadata": {},
   "source": [
    "__Exercise__\n",
    "\n",
    "What is the output of the following line of code? What does it actually do?"
   ]
  },
  {
   "cell_type": "code",
   "execution_count": 187,
   "metadata": {},
   "outputs": [
    {
     "ename": "ValueError",
     "evalue": "invalid literal for int() with base 10: '3.4'",
     "output_type": "error",
     "traceback": [
      "\u001b[1;31m---------------------------------------------------------------------------\u001b[0m",
      "\u001b[1;31mValueError\u001b[0m                                Traceback (most recent call last)",
      "\u001b[1;32m<ipython-input-187-f85d26eeec68>\u001b[0m in \u001b[0;36m<module>\u001b[1;34m\u001b[0m\n\u001b[1;32m----> 1\u001b[1;33m \u001b[0mprint\u001b[0m\u001b[1;33m(\u001b[0m\u001b[1;34m\"Fractional string to int:\"\u001b[0m\u001b[1;33m,\u001b[0m \u001b[0mint\u001b[0m\u001b[1;33m(\u001b[0m\u001b[1;34m\"3.4\"\u001b[0m\u001b[1;33m)\u001b[0m\u001b[1;33m)\u001b[0m\u001b[1;33m\u001b[0m\u001b[1;33m\u001b[0m\u001b[0m\n\u001b[0m",
      "\u001b[1;31mValueError\u001b[0m: invalid literal for int() with base 10: '3.4'"
     ]
    }
   ],
   "source": [
    "print(\"Fractional string to int:\", int(\"3.4\"))"
   ]
  },
  {
   "cell_type": "markdown",
   "metadata": {},
   "source": [
    "How could you write the code above to output the properly converted string?"
   ]
  },
  {
   "cell_type": "code",
   "execution_count": 157,
   "metadata": {},
   "outputs": [
    {
     "name": "stdout",
     "output_type": "stream",
     "text": [
      "Fractional string to int: 3\n"
     ]
    }
   ],
   "source": [
    "print(\"Fractional string to int:\", int(float(\"3.4\")))"
   ]
  },
  {
   "cell_type": "markdown",
   "metadata": {},
   "source": [
    "### What about complex numbers?\n",
    "\n",
    "Complex numbers are well, more complex. They have real and imaginary parts. To access these, we have to understand a bit more about the internals of Python. As mentioned before, Python variables point to _objects_ and in fact, everything in Python is an object. Values are objects, functions are objects, even types themselves are objects. \n",
    "\n",
    "So what are objects? Objects are entities that contain not only data (the values) but also associated metadata (attributes) and/or functionality (methods). In Python, an object's attributes and methods can be accessed using the _dot notation_:"
   ]
  },
  {
   "cell_type": "code",
   "execution_count": 90,
   "metadata": {},
   "outputs": [
    {
     "name": "stdout",
     "output_type": "stream",
     "text": [
      "Our complex number is 2.0  +  3.0 j\n"
     ]
    }
   ],
   "source": [
    "a_complex = 2 + 3j\n",
    "print(\"Our complex number is\", a_complex.real, \" + \", a_complex.imag, \"j\")"
   ]
  },
  {
   "cell_type": "markdown",
   "metadata": {},
   "source": [
    "## Built-in Functions"
   ]
  },
  {
   "cell_type": "markdown",
   "metadata": {},
   "source": [
    "If everything in Python is an object, then everything must have attributes and methods. How can we know what attributes and methods each object has then, without memorizing every single one of them?\n",
    "\n",
    "Python is known as a programming language that comes with _batteries included_. What this means is that besides the barebones of the language, like statements and data types, a standard Python installation comes with a wealth of so-called _built-in functions_ and _libraries_ that simplify many operations. Let's focus on these built-in functions first.\n",
    "\n",
    "We have already seen several such functions: `print()`, `type()`, `float`, `int`, etc. These come for free with Python and enable us to output text, check the data type of a certain object, and convert types. Another very useful built-in function is `help()`, which allows us to access the documentation written by the creators of a particular object and learn about it. Let's try it on our complex number."
   ]
  },
  {
   "cell_type": "code",
   "execution_count": null,
   "metadata": {},
   "outputs": [],
   "source": [
    "help(a_complex)"
   ]
  },
  {
   "cell_type": "markdown",
   "metadata": {},
   "source": [
    "In Jupyter notebooks, you can also access the help documentation by typing the object name followed by a question mark. This does not show the full help text but only a summary. You can also display this text by placing the cursor anywhere in the object name, holding down `shift`, and then press `tab`."
   ]
  },
  {
   "cell_type": "code",
   "execution_count": 165,
   "metadata": {},
   "outputs": [
    {
     "data": {
      "text/plain": [
       "\u001b[1;31mType:\u001b[0m        complex\n",
       "\u001b[1;31mString form:\u001b[0m (2+3j)\n",
       "\u001b[1;31mDocstring:\u001b[0m  \n",
       "Create a complex number from a real part and an optional imaginary part.\n",
       "\n",
       "This is equivalent to (real + imag*1j) where imag defaults to 0.\n"
      ]
     },
     "metadata": {},
     "output_type": "display_data"
    }
   ],
   "source": [
    "a_complex?"
   ]
  },
  {
   "cell_type": "markdown",
   "metadata": {},
   "source": [
    "There are many other built-in functions in Python. Googling \"Python built-in functions\" will show you the official documentation page that lists all of them. Let's go over a few important ones:"
   ]
  },
  {
   "cell_type": "markdown",
   "metadata": {},
   "source": [
    "- `len` works on _sequence_ type objects, such as strings, and returns the number of elements (the length) in the sequence. In a string, it returns the number of characters."
   ]
  },
  {
   "cell_type": "code",
   "execution_count": 169,
   "metadata": {},
   "outputs": [
    {
     "name": "stdout",
     "output_type": "stream",
     "text": [
      "Joao has 4 letters\n"
     ]
    }
   ],
   "source": [
    "print(first_name, \"has\", len(first_name), \"letters\")"
   ]
  },
  {
   "cell_type": "markdown",
   "metadata": {},
   "source": [
    "- `round` works on integer and float types and round off a number to _n_ decimal places, by default 0. You can change this default value by giving the number of decimal places as the second argument."
   ]
  },
  {
   "cell_type": "code",
   "execution_count": 171,
   "metadata": {},
   "outputs": [
    {
     "name": "stdout",
     "output_type": "stream",
     "text": [
      "3\n",
      "3.14\n"
     ]
    }
   ],
   "source": [
    "pi = 3.14159\n",
    "print(round(pi))\n",
    "print(round(pi, 2))"
   ]
  },
  {
   "cell_type": "markdown",
   "metadata": {},
   "source": [
    "- `abs` returns the absolute value of a number, if an integer or float."
   ]
  },
  {
   "cell_type": "code",
   "execution_count": 174,
   "metadata": {},
   "outputs": [
    {
     "name": "stdout",
     "output_type": "stream",
     "text": [
      "3\n"
     ]
    }
   ],
   "source": [
    "print(abs(-3))"
   ]
  },
  {
   "cell_type": "markdown",
   "metadata": {},
   "source": [
    "- `min` and `max` return the minimum and maximum of a sequence of values. They also work on sequence objects, like strings, by returning the min/max element."
   ]
  },
  {
   "cell_type": "code",
   "execution_count": 180,
   "metadata": {},
   "outputs": [
    {
     "name": "stdout",
     "output_type": "stream",
     "text": [
      "1\n",
      "4\n"
     ]
    }
   ],
   "source": [
    "print(min(1, 2, 3, 4))\n",
    "print(max(1, 2, 3, 4))"
   ]
  },
  {
   "cell_type": "code",
   "execution_count": 181,
   "metadata": {},
   "outputs": [
    {
     "name": "stdout",
     "output_type": "stream",
     "text": [
      "a\n",
      "d\n"
     ]
    }
   ],
   "source": [
    "print(min('a', 'b', 'c', 'd'))\n",
    "print(max('a', 'b', 'c', 'd'))"
   ]
  },
  {
   "cell_type": "code",
   "execution_count": 184,
   "metadata": {},
   "outputs": [
    {
     "name": "stdout",
     "output_type": "stream",
     "text": [
      "A\n",
      "b\n"
     ]
    }
   ],
   "source": [
    "print(min('a', 'A', 'b', 'B'))\n",
    "print(max('a', 'A', 'b', 'B'))"
   ]
  },
  {
   "cell_type": "code",
   "execution_count": 186,
   "metadata": {},
   "outputs": [
    {
     "name": "stdout",
     "output_type": "stream",
     "text": [
      "c\n"
     ]
    }
   ],
   "source": [
    "my_str = 'abc'\n",
    "print(max(my_str))"
   ]
  },
  {
   "cell_type": "markdown",
   "metadata": {},
   "source": [
    "Although both functions support strings and integers, we cannot mix them. Python does not know how to compare them relative to each other, so it throws an error."
   ]
  },
  {
   "cell_type": "code",
   "execution_count": 185,
   "metadata": {},
   "outputs": [
    {
     "ename": "TypeError",
     "evalue": "'<' not supported between instances of 'int' and 'str'",
     "output_type": "error",
     "traceback": [
      "\u001b[1;31m---------------------------------------------------------------------------\u001b[0m",
      "\u001b[1;31mTypeError\u001b[0m                                 Traceback (most recent call last)",
      "\u001b[1;32m<ipython-input-185-8a9fe5be9f8f>\u001b[0m in \u001b[0;36m<module>\u001b[1;34m\u001b[0m\n\u001b[1;32m----> 1\u001b[1;33m \u001b[0mprint\u001b[0m\u001b[1;33m(\u001b[0m\u001b[0mmin\u001b[0m\u001b[1;33m(\u001b[0m\u001b[1;34m'A'\u001b[0m\u001b[1;33m,\u001b[0m \u001b[1;36m1\u001b[0m\u001b[1;33m)\u001b[0m\u001b[1;33m)\u001b[0m\u001b[1;33m\u001b[0m\u001b[1;33m\u001b[0m\u001b[0m\n\u001b[0m",
      "\u001b[1;31mTypeError\u001b[0m: '<' not supported between instances of 'int' and 'str'"
     ]
    }
   ],
   "source": [
    "print(min('A', 1))"
   ]
  },
  {
   "cell_type": "markdown",
   "metadata": {},
   "source": [
    "__Exercise__\n",
    "\n",
    "Predict what the following calls to `print()` will output. Does the result make any sense? "
   ]
  },
  {
   "cell_type": "code",
   "execution_count": 189,
   "metadata": {},
   "outputs": [
    {
     "name": "stdout",
     "output_type": "stream",
     "text": [
      "tin\n"
     ]
    }
   ],
   "source": [
    "rich = 'gold'\n",
    "poor = 'tin'\n",
    "print(max(rich, poor))"
   ]
  },
  {
   "cell_type": "code",
   "execution_count": 191,
   "metadata": {},
   "outputs": [
    {
     "ename": "TypeError",
     "evalue": "'>' not supported between instances of 'str' and 'int'",
     "output_type": "error",
     "traceback": [
      "\u001b[1;31m---------------------------------------------------------------------------\u001b[0m",
      "\u001b[1;31mTypeError\u001b[0m                                 Traceback (most recent call last)",
      "\u001b[1;32m<ipython-input-191-d197757f0ffa>\u001b[0m in \u001b[0;36m<module>\u001b[1;34m\u001b[0m\n\u001b[1;32m----> 1\u001b[1;33m \u001b[0mprint\u001b[0m\u001b[1;33m(\u001b[0m\u001b[0mmax\u001b[0m\u001b[1;33m(\u001b[0m\u001b[0mlen\u001b[0m\u001b[1;33m(\u001b[0m\u001b[0mrich\u001b[0m\u001b[1;33m)\u001b[0m\u001b[1;33m,\u001b[0m \u001b[0mpoor\u001b[0m\u001b[1;33m)\u001b[0m\u001b[1;33m)\u001b[0m\u001b[1;33m\u001b[0m\u001b[1;33m\u001b[0m\u001b[0m\n\u001b[0m",
      "\u001b[1;31mTypeError\u001b[0m: '>' not supported between instances of 'str' and 'int'"
     ]
    }
   ],
   "source": [
    "print(max(len(rich), poor))"
   ]
  },
  {
   "cell_type": "markdown",
   "metadata": {},
   "source": [
    "## Coffee Break (15 minutes)"
   ]
  },
  {
   "cell_type": "markdown",
   "metadata": {},
   "source": [
    "## Libraries"
   ]
  },
  {
   "cell_type": "code",
   "execution_count": null,
   "metadata": {},
   "outputs": [],
   "source": [
    "# Write the euclidean distance with functions from the math module."
   ]
  }
 ],
 "metadata": {
  "kernelspec": {
   "display_name": "Python 3",
   "language": "python",
   "name": "python3"
  },
  "language_info": {
   "codemirror_mode": {
    "name": "ipython",
    "version": 3
   },
   "file_extension": ".py",
   "mimetype": "text/x-python",
   "name": "python",
   "nbconvert_exporter": "python",
   "pygments_lexer": "ipython3",
   "version": "3.7.4"
  }
 },
 "nbformat": 4,
 "nbformat_minor": 4
}
